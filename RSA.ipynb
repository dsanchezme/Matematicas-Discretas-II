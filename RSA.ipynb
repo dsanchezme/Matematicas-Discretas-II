{
 "cells": [
  {
   "cell_type": "markdown",
   "metadata": {},
   "source": [
    "<center>RSA<h3>Diego Felipe Sanchez Medina</h3><h5>dsanchezme@unal.edu.co</h5></center>"
   ]
  },
  {
   "cell_type": "markdown",
   "metadata": {},
   "source": [
    "El algoritmo RSA es un algoritmo de clave pública desarrollado en 1977 en el MIT por Ronald Rivest, Adi Shamir y Leonard Adelman. La seguridad de este algoritmo radica en que no hay maneras rápidas conocidas de factorizar un número grande en sus factores primos utilizando computadoras tradicionales."
   ]
  },
  {
   "cell_type": "markdown",
   "metadata": {},
   "source": [
    "## Problema\n",
    "\n",
    "Es la base de un criptosistema, un conjunto de algoritmos criptográficos que se utilizan para servicios o propósitos de seguridad específicos, que permite el cifrado de clave pública y se usa ampliamente para proteger datos confidenciales, particularmente cuando se envían a través de una red insegura como Internet.\n",
    "\n",
    "RSA es un algoritmo criptográfico de clave pública en el que se utilizan dos claves diferentes para cifrar y descifrar el mensaje. Por eso también se le llama algoritmo de clave asimétrica. La criptografía de clave asimétrica evoluciona debido a los dos problemas de la criptografía de clave simétrica.\n",
    "\n",
    "El primer problema con la criptografía de clave simétrica es la distribución de clave. Es posible que las dos partes en comunicación ya estén compartiendo la clave que se les ha distribuido por cualquier medio o la clave debe compartirse con la ayuda de un centro de distribución de claves. Pero, el uso del centro de distribución de claves compromete el secreto de la clave, lo que dificulta la confidencialidad del mensaje.\n",
    "\n",
    "El segundo problema con la criptografía de clave simétrica son las firmas digitales. Es decir, había un requisito de firmas digitales que aseguraría a todas las partes que el mensaje ha sido enviado por un individuo en particular. Entonces, hubo una falta de autenticación.\n",
    "\n",
    "Ambos problemas de criptografía de clave simétrica conducen a la evolución de la criptografía de clave asimétrica. Este sistema consiste en la utilización de una fórmula matemática muy compleja para crear un par de claves. Esta primera clave es la clave privada. La clave privada es de uso exclusivo para el creador del par de claves, y sirve para cifrar y descifrar mensajes de forma completamente segura.\n",
    "\n",
    "La segunda clave es la llamada clave pública. Esta es una clave que el creador puede entregar a terceras personas. La clave pública se crea a partir de la clave privada, pero el proceso inverso es imposible. De esta forma, el creador de las claves puede compartir esta clave pública con terceras personas, y gracias a ella estas personas puedan enviarle información cifrada que solo será accesible usando la clave privada del creador.\n",
    "\n",
    "\n",
    "\n",
    "\n",
    "\n"
   ]
  },
  {
   "cell_type": "markdown",
   "metadata": {},
   "source": [
    "## Desarrollo matematico del algoritmo\n",
    "\n",
    "El algoritmo RSA es un sistema que permite la comunicación segura entre un emisor, que se nombra E, y un receptor, R. Se supone que ambos pueden ejecutar en sus respectivas máquinas las operaciones que deseen, y guardar la información que precisen, sin que ésta sea conocida por nadie. No obstante, cuando el emisor mande un mensaje encriptado al receptor no puede estar seguro de que el canal no sea espiado, y por ello su objetivo es que, aunque el mensaje encriptado sea interceptado por un espía, éste no podrá desencriptarlo, ni por lo tanto entenderlo.\n",
    "\n",
    "El procedimiento del algoritmo es el siguiente:\n",
    "\n",
    "1. En privado, el receptor $R$ escoge dos números primos $p$ y $q$ muy grandes y los multiplica, obteniendo $n=p\\cdot q$.\n",
    "\n",
    "2. También en privado, el receptor obtiene el valor de la función multiplicativa de Euler, $\\phi(n)$. Se sabe por el $\\textbf{Teorema 1.}$ que en este caso $\\phi(n)=\\phi(p\\cdot q)=\\phi(p)\\cdot\\phi(q)=(p-1)(q-1)$, dado que $p$ y $q$ son primos entre sí, y cada uno de ellos es primo.\n",
    "\n",
    "3. En privado, el receptor $R$ escoge un número $e$ tal que $1<e<\\phi(n)$ de manera que sea primo relativo con $\\phi$, y le calcula su inverso módulo $\\phi(n)$, que se le llama $d$.\n",
    "\n",
    "4. El receptor se guarda en secreto el par de números $(d,n)$, a lo cual se le llama clave privada, y se hace público el par de números $(e,n)$, a los que se le llama clave pública.\n",
    "\n",
    "5. El emisor $E$, que desea enviarle el mensaje confidencial $M$ a $R$, lo encripta del siguiente modo: $C=M^{e}$ (mod $n$). $E$ puede hacer este proceso de cifrado ya que conoce los números $e$ y $n$ que $R$ hizo públicos. Ahora, envía el número $C$, que es el mensaje $M$ encriptado.\n",
    "6. El receptor $R$ recibe un número $C$ y ejecuta con él la siguiente operación: $M=C^{d}$ (mod $n$), donde $d$ es conocido en la clave privada. Luego, $R$ puede conocer el mensaje $M$ que $E$ le envió.\n",
    "\n",
    "$\\textbf{Teorema 1. Funcion multiplicativa de Euler}$\n",
    "\n",
    "$\\textbf{Definicion: }$Se define la funcion multiplicativa de Euler, $\\phi(r)$, como el número de números enteros mayores o iguales que 1 y menores que $r$ que son primos relativos con él, es decir: \n",
    "\n",
    "<center>$\\phi(r)=\\#\\{s$ $|$ $s\\geq1$ y $s<r$ y $mcd(s,r)=1\\}$</center>\n",
    "    \n",
    "    \n",
    "\n",
    "donde $\\#$ denota el cardinal del conjunto.\n",
    "\n",
    "Ahora, dado un número $r$, se puede calcular el valor de $\\phi(r)$ de la siguiente maner:\n",
    "\n",
    "1. Si $r$ es primo, $\\phi(r)=r-1$\n",
    "2. Si $r$ es el producto de dos números primos entre si, o sea, $r=p\\cdot q$ con $mcd(p,q)=1$, entonces $\\phi(r)=\\phi(p)\\cdot\\phi(q)$\n",
    "3. Si $r=p^{k}$ con $p$ primo, entonces $\\phi(r)=p^{k}-p^{k-1}=p^k(p-1)$\n"
   ]
  },
  {
   "cell_type": "markdown",
   "metadata": {},
   "source": [
    "## Implementacion del algoritmo "
   ]
  },
  {
   "cell_type": "code",
   "execution_count": 2,
   "metadata": {},
   "outputs": [
    {
     "name": "stdout",
     "output_type": "stream",
     "text": [
      "p: 97\n",
      "q: 61\n",
      "e: 731\n",
      "d: 851\n",
      "231\n",
      "Mensaje recibido: 14\n"
     ]
    }
   ],
   "source": [
    "# -*- coding: utf-8 -*-\n",
    "\"\"\"\n",
    "Created on Fri Jul 10 10:06:18 2020\n",
    "\n",
    "@author: Diego Sánchez\n",
    "\n",
    "\"\"\"\n",
    "\n",
    "from random import randint as random\n",
    "\n",
    "def prime(x):\n",
    "       if x in [0, 1]:\n",
    "           return False\n",
    "       for n in range(2, int(x ** 0.5 + 1)):\n",
    "           if x % n == 0:\n",
    "               return False\n",
    "       return True\n",
    "\n",
    "def GCD(a,b):\n",
    "  if(a%b==0):\n",
    "    return b\n",
    "  return GCD(b,a%b)\n",
    "\n",
    "p=0\n",
    "q=0\n",
    "\n",
    "while((not prime(p)) or (not prime(q))):\n",
    "  p = random(1,100)\n",
    "  q = random(1,100)\n",
    "\n",
    "print(\"p: \"+str(p)+\"\\nq: \"+str(q))\n",
    "\n",
    "n=p*q\n",
    "\n",
    "m = (p-1)*(q-1)\n",
    "\n",
    "e = 0\n",
    "\n",
    "while(GCD(e,m)!=1 or prime(e)):\n",
    "    e = random(1,1000)\n",
    "\n",
    "print(\"e:\",e)\n",
    "\n",
    "r1=m\n",
    "r2=e\n",
    "\n",
    "if(r1<r2):\n",
    "    (r1,r2)=(r2,r1)\n",
    "\n",
    "t1=0;t2=1\n",
    "\n",
    "while(r1>1):\n",
    "    r=r1%r2\n",
    "    q=r1//r2\n",
    "    r1=r2\n",
    "    r2=r\n",
    "    t=t1-(q*t2)\n",
    "    t1=t2\n",
    "    t2=t   \n",
    "   \n",
    "d=t1\n",
    "\n",
    "if(d<0):\n",
    "    print(\"NO\")\n",
    "else:\n",
    "    print(\"d:\",d)\n",
    "    #Mensaje que E envía a R\n",
    "    M=14\n",
    "    \n",
    "    C=(M**(e))%n\n",
    "    \n",
    "    print(C)\n",
    "    \n",
    "    X=(C**d)%n\n",
    "    print(\"Mensaje recibido:\",X)"
   ]
  }
 ],
 "metadata": {
  "kernelspec": {
   "display_name": "Python 3",
   "language": "python",
   "name": "python3"
  },
  "language_info": {
   "codemirror_mode": {
    "name": "ipython",
    "version": 3
   },
   "file_extension": ".py",
   "mimetype": "text/x-python",
   "name": "python",
   "nbconvert_exporter": "python",
   "pygments_lexer": "ipython3",
   "version": "3.7.4"
  }
 },
 "nbformat": 4,
 "nbformat_minor": 2
}
